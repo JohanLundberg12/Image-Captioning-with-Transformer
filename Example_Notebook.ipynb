{
 "cells": [
  {
   "cell_type": "code",
   "execution_count": 2,
   "id": "3d1f0a95",
   "metadata": {},
   "outputs": [
    {
     "name": "stdout",
     "output_type": "stream",
     "text": [
      "2021-05-16 14:59:20.732909: I tensorflow/compiler/jit/xla_cpu_device.cc:41] Not creating XLA devices, tf_xla_enable_xla_devices not set\n",
      "2021-05-16 14:59:20.736676: I tensorflow/core/platform/cpu_feature_guard.cc:142] This TensorFlow binary is optimized with oneAPI Deep Neural Network Library (oneDNN) to use the following CPU instructions in performance-critical operations:  SSE4.1 SSE4.2 AVX AVX2 FMA\n",
      "To enable them in other operations, rebuild TensorFlow with the appropriate compiler flags.\n",
      "2021-05-16 14:59:20.740692: I tensorflow/core/common_runtime/process_util.cc:146] Creating new thread pool with default inter op setting: 2. Tune using inter_op_parallelism_threads for best performance.\n",
      "\n",
      "Caption:  ['a', 'dog', 'runs', 'through', 'the', 'grass', '.'] \n",
      "\n",
      "Figure(640x480)\n",
      "Exception ignored in: <function _CheckpointRestoreCoordinatorDeleter.__del__ at 0x7fab5fd03b80>\n",
      "Traceback (most recent call last):\n",
      "  File \"/home/carbon/anaconda3/lib/python3.8/site-packages/tensorflow/python/training/tracking/util.py\", line 157, in __del__\n",
      "TypeError: 'NoneType' object is not callable\n"
     ]
    }
   ],
   "source": [
    "! python predict_image.py config_files/english_random.txt 'data/10_percent_test_set/english/random/1311132744_5ffd03f831.jpg'"
   ]
  },
  {
   "cell_type": "code",
   "execution_count": 6,
   "id": "de1a504f",
   "metadata": {},
   "outputs": [
    {
     "name": "stdout",
     "output_type": "stream",
     "text": [
      "2021-05-16 15:03:03.707257: I tensorflow/compiler/jit/xla_cpu_device.cc:41] Not creating XLA devices, tf_xla_enable_xla_devices not set\n",
      "2021-05-16 15:03:03.707868: I tensorflow/core/platform/cpu_feature_guard.cc:142] This TensorFlow binary is optimized with oneAPI Deep Neural Network Library (oneDNN) to use the following CPU instructions in performance-critical operations:  SSE4.1 SSE4.2 AVX AVX2 FMA\n",
      "To enable them in other operations, rebuild TensorFlow with the appropriate compiler flags.\n",
      "2021-05-16 15:03:03.710435: I tensorflow/core/common_runtime/process_util.cc:146] Creating new thread pool with default inter op setting: 2. Tune using inter_op_parallelism_threads for best performance.\n",
      "len(all_captions) : 4046\n",
      "len(all_image_names) : 4046\n",
      "/home/carbon/anaconda3/lib/python3.8/site-packages/nltk/translate/bleu_score.py:516: UserWarning: \n",
      "The hypothesis contains 0 counts of 4-gram overlaps.\n",
      "Therefore the BLEU score evaluates to 0, independently of\n",
      "how many N-gram overlaps of lower order it contains.\n",
      "Consider using lower n-gram order or use SmoothingFunction()\n",
      "  warnings.warn(_msg)\n",
      "/home/carbon/anaconda3/lib/python3.8/site-packages/nltk/translate/bleu_score.py:516: UserWarning: \n",
      "The hypothesis contains 0 counts of 3-gram overlaps.\n",
      "Therefore the BLEU score evaluates to 0, independently of\n",
      "how many N-gram overlaps of lower order it contains.\n",
      "Consider using lower n-gram order or use SmoothingFunction()\n",
      "  warnings.warn(_msg)\n",
      "AVG BLEU-1 score: 53.557111783414776\n",
      "AVG BLEU-2 score: 40.220075400176455\n",
      "AVG BLEU-3 score: 33.10558219994229\n",
      "AVG BLEU-4 score: 23.837552938863887\n",
      "AVG Rouge L score: 0.2912689069462505\n",
      "AVG Meteor Score: 0.21271156504610012\n",
      "Exception ignored in: <function _CheckpointRestoreCoordinatorDeleter.__del__ at 0x7fe54fafa790>\n",
      "Traceback (most recent call last):\n",
      "  File \"/home/carbon/anaconda3/lib/python3.8/site-packages/tensorflow/python/training/tracking/util.py\", line 157, in __del__\n",
      "TypeError: 'NoneType' object is not callable\n"
     ]
    }
   ],
   "source": [
    "! python test.py config_files/english_random.txt"
   ]
  },
  {
   "cell_type": "code",
   "execution_count": null,
   "id": "d28aadc8",
   "metadata": {},
   "outputs": [],
   "source": []
  }
 ],
 "metadata": {
  "kernelspec": {
   "display_name": "flow",
   "language": "python",
   "name": "flow"
  },
  "language_info": {
   "codemirror_mode": {
    "name": "ipython",
    "version": 3
   },
   "file_extension": ".py",
   "mimetype": "text/x-python",
   "name": "python",
   "nbconvert_exporter": "python",
   "pygments_lexer": "ipython3",
   "version": "3.8.5"
  }
 },
 "nbformat": 4,
 "nbformat_minor": 5
}
